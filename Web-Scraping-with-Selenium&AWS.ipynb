{
 "cells": [
  {
   "cell_type": "markdown",
   "id": "552faa6d",
   "metadata": {},
   "source": [
    "TODO:\n",
    "- top 10 trending videos on Youtube using Selenium\n",
    "- set up a recurring job on AWS Lambda to scrape every 30 minutes\n",
    "- send the results as a CSV over email"
   ]
  },
  {
   "cell_type": "markdown",
   "id": "bec461ec",
   "metadata": {},
   "source": [
    "Why we need 'if __name__ == \"__main__\"': \\\n",
    "when we import some code from this file in another file, this can avoid executing all codes in this file"
   ]
  },
  {
   "cell_type": "markdown",
   "id": "b3c9bbbb",
   "metadata": {},
   "source": [
    "When I need to do some more complicated query, x-path is recommended"
   ]
  },
  {
   "cell_type": "code",
   "execution_count": 1,
   "id": "90e619b5",
   "metadata": {},
   "outputs": [],
   "source": [
    "import requests"
   ]
  },
  {
   "cell_type": "code",
   "execution_count": 2,
   "id": "8b197438",
   "metadata": {},
   "outputs": [],
   "source": [
    "YOUTUBE_URL = 'https://www.youtube.com/feed/trending'"
   ]
  },
  {
   "cell_type": "code",
   "execution_count": 3,
   "id": "be42e193",
   "metadata": {},
   "outputs": [],
   "source": [
    "response = requests.get(YOUTUBE_URL)"
   ]
  },
  {
   "cell_type": "code",
   "execution_count": 4,
   "id": "6f42e72a",
   "metadata": {},
   "outputs": [
    {
     "name": "stdout",
     "output_type": "stream",
     "text": [
      "Status code: 200\n"
     ]
    }
   ],
   "source": [
    "print('Status code:', response.status_code)"
   ]
  },
  {
   "cell_type": "code",
   "execution_count": 5,
   "id": "5a8516a3",
   "metadata": {},
   "outputs": [
    {
     "name": "stdout",
     "output_type": "stream",
     "text": [
      "output <!DOCTYPE html><html style=\"font-size: 10px;font-family: Roboto, Arial, sans-serif;\" lang=\"en\" system-icons typography typography-spacing darker-dark-theme><head><meta http-equiv=\"X-UA-Compatible\" content=\"IE=edge\"/><meta http-equiv=\"origin-trial\" content=\"AlgsH67ctYlMR3JYAxEnGfvsoFo41AMqAg6wRHHXOpWAfD54ZCfTPBclxnFT4Gc8IUX4pq6Xfo0esDuOt+WH3wIAAABteyJvcmlnaW4iOiJodHRwczovL3lvdXR1YmUuY29tOjQ0MyIsImZlYXR1cmUiOiJQcml2YWN5U2FuZGJveEFkc0FQSXMiLCJleHBpcnkiOjE2ODA2NTI3OTksImlzU3ViZG9tYWluIjp0cnVlfQ==\"/><script nonce=\"rUv3DPOVE61Y970KXlmHZA\">var ytcfg={d:function(){return window.yt&&yt.config_||ytcfg.data_||(ytcfg.data_={})},get:function(k,o){return k in ytcfg.d()?ytcfg.d()[k]:o},set:function(){var a=arguments;if(a.length>1)ytcfg.d()[a[0]]=a[1];else for(var k in a[0])ytcfg.d()[k]=a[0][k]}};\n",
      "window.ytcfg.set('EMERGENCY_BASE_URL', '\\/error_204?t\\x3djserror\\x26level\\x3dERROR\\x26client.name\\x3d1\\x26client.version\\x3d2.20230104.01.00');</script><script nonce=\"rUv3DPOVE61Y970KXlmHZA\">(function(){wind\n"
     ]
    }
   ],
   "source": [
    "print('output', response.text[:1000])"
   ]
  },
  {
   "cell_type": "code",
   "execution_count": 6,
   "id": "b9d792de",
   "metadata": {},
   "outputs": [],
   "source": [
    "from bs4 import BeautifulSoup"
   ]
  },
  {
   "cell_type": "code",
   "execution_count": 7,
   "id": "1f27b06f",
   "metadata": {},
   "outputs": [],
   "source": [
    "doc = BeautifulSoup(response.text, 'html.parser')"
   ]
  },
  {
   "cell_type": "code",
   "execution_count": 11,
   "id": "f88f4928",
   "metadata": {},
   "outputs": [
    {
     "name": "stdout",
     "output_type": "stream",
     "text": [
      "<title>Trending - YouTube</title>\n"
     ]
    }
   ],
   "source": [
    "print(doc.title)"
   ]
  },
  {
   "cell_type": "code",
   "execution_count": 10,
   "id": "d9b6788c",
   "metadata": {},
   "outputs": [],
   "source": [
    "video_divs = doc.find_all('div', \n",
    "                          class_='style-scope ytd-video-renderer')"
   ]
  },
  {
   "cell_type": "code",
   "execution_count": 12,
   "id": "85d51f05",
   "metadata": {},
   "outputs": [
    {
     "name": "stdout",
     "output_type": "stream",
     "text": [
      "0\n"
     ]
    }
   ],
   "source": [
    "print(len(video_divs))"
   ]
  },
  {
   "cell_type": "markdown",
   "id": "378aa336",
   "metadata": {},
   "source": [
    "request does not execute Javascript.\\\n",
    "we need to create a fake browser."
   ]
  },
  {
   "cell_type": "code",
   "execution_count": 13,
   "id": "9b626924",
   "metadata": {},
   "outputs": [],
   "source": [
    "from selenium.webdriver.chrome.service import Service\n",
    "from selenium import webdriver"
   ]
  },
  {
   "cell_type": "code",
   "execution_count": 14,
   "id": "29e47e0d",
   "metadata": {},
   "outputs": [],
   "source": [
    "def get_driver():\n",
    "    service = Service(executable_path=\"/Users/chenyifan/Downloads/chromedriver\")\n",
    "    driver = webdriver.Chrome()\n",
    "    driver.get(YOUTUBE_URL)\n",
    "    return driver"
   ]
  },
  {
   "cell_type": "code",
   "execution_count": 15,
   "id": "b52277cd",
   "metadata": {},
   "outputs": [],
   "source": [
    "def get_videos(driver):\n",
    "    VIDEO_TAG = 'ytd-video-renderer'\n",
    "    video_tags = driver.find_elements('tag name', VIDEO_TAG)\n",
    "    print('Get {} videos'.format(len(video_tags)))\n",
    "    return video_tags"
   ]
  },
  {
   "cell_type": "code",
   "execution_count": 16,
   "id": "3bcbd327",
   "metadata": {
    "scrolled": true
   },
   "outputs": [],
   "source": [
    "driver = get_driver()"
   ]
  },
  {
   "cell_type": "code",
   "execution_count": 18,
   "id": "b29cc380",
   "metadata": {},
   "outputs": [
    {
     "name": "stdout",
     "output_type": "stream",
     "text": [
      "Get 99 videos\n"
     ]
    }
   ],
   "source": [
    "# I have to wait until the webpage is downloaded\n",
    "# import time\n",
    "# sleep(20)\n",
    "videos = get_videos(driver)"
   ]
  },
  {
   "cell_type": "code",
   "execution_count": 19,
   "id": "ac2af1e1",
   "metadata": {},
   "outputs": [],
   "source": [
    "# I want title, url, thumbnail_url, channel, views, uploaded, description\n",
    "video = videos[0]\n",
    "video_title = video.find_element('id', 'video-title')\n",
    "url = video_title.get_attribute('href')\n",
    "thumb_nail_img = video.find_element('tag name', 'img')\n",
    "thumb_nail_url = thumb_nail_img.get_attribute('src')\n",
    "channel = video.find_element('tag name', 'ytd-channel-name').find_element('tag name', 'a')\n",
    "desc = video.find_element('id', 'description-text')"
   ]
  },
  {
   "cell_type": "code",
   "execution_count": 20,
   "id": "5233ac85",
   "metadata": {},
   "outputs": [
    {
     "name": "stdout",
     "output_type": "stream",
     "text": [
      "title: Quavo - WITHOUT YOU\n",
      "video_url: https://www.youtube.com/watch?v=_uS8QRe2qfE\n",
      "thumb_nail_url: https://i.ytimg.com/vi/_uS8QRe2qfE/hqdefault.jpg?sqp=-oaymwE2CPYBEIoBSFXyq4qpAygIARUAAIhCGAFwAcABBvABAfgB_g6AArgIigIMCAAQARhlIGUoZTAP&rs=AOn4CLCZyLldTrLS8nAU6qrQXQQtar5t1Q\n",
      "channel name: Quavo Huncho\n",
      "video description: ♾🚀 Listen to \"WITHOUT YOU\" here: https://soundcloud.com/quavoofficial/quavo-without-you?si=d6d0a58a5baa4c82a8526ea03ec3359f&utm_source=clipboard&utm_medium=text&utm_campaign=social_sharing...\n"
     ]
    }
   ],
   "source": [
    "print('title:', video_title.text)\n",
    "print('video_url:', url)\n",
    "print('thumb_nail_url:', thumb_nail_url)\n",
    "print('channel name:', channel.text)\n",
    "print('video description:', desc.text)"
   ]
  },
  {
   "cell_type": "code",
   "execution_count": 21,
   "id": "cc255d6e",
   "metadata": {},
   "outputs": [],
   "source": [
    "def parse_video(video):\n",
    "    video_title = video.find_element('id', 'video-title')\n",
    "    url = video_title.get_attribute('href')\n",
    "    thumb_nail_img = video.find_element('tag name', 'img')\n",
    "    thumb_nail_url = thumb_nail_img.get_attribute('src')\n",
    "    channel = video.find_element('tag name', 'ytd-channel-name').find_element('tag name', 'a')\n",
    "    desc = video.find_element('id', 'description-text')\n",
    "    \n",
    "    return {\n",
    "        'title': video_title.text,\n",
    "        'video_url': url,\n",
    "        'thumb_nail_url': thumb_nail_url,\n",
    "        'channel name': channel.text,\n",
    "        'video description': desc.text\n",
    "    }"
   ]
  },
  {
   "cell_type": "code",
   "execution_count": 22,
   "id": "5a0889b0",
   "metadata": {
    "scrolled": true
   },
   "outputs": [
    {
     "data": {
      "text/plain": [
       "[{'title': 'Quavo - WITHOUT YOU',\n",
       "  'video_url': 'https://www.youtube.com/watch?v=_uS8QRe2qfE',\n",
       "  'thumb_nail_url': 'https://i.ytimg.com/vi/_uS8QRe2qfE/hqdefault.jpg?sqp=-oaymwE2CPYBEIoBSFXyq4qpAygIARUAAIhCGAFwAcABBvABAfgB_g6AArgIigIMCAAQARhlIGUoZTAP&rs=AOn4CLCZyLldTrLS8nAU6qrQXQQtar5t1Q',\n",
       "  'channel name': 'Quavo Huncho',\n",
       "  'video description': '♾🚀 Listen to \"WITHOUT YOU\" here: https://soundcloud.com/quavoofficial/quavo-without-you?si=d6d0a58a5baa4c82a8526ea03ec3359f&utm_source=clipboard&utm_medium=text&utm_campaign=social_sharing...'},\n",
       " {'title': 'I Strapped A GoPro To A Fish!',\n",
       "  'video_url': 'https://www.youtube.com/watch?v=NigrQ9UcJy4',\n",
       "  'thumb_nail_url': 'https://i.ytimg.com/vi/NigrQ9UcJy4/hqdefault.jpg?sqp=-oaymwEcCPYBEIoBSFXyq4qpAw4IARUAAIhCGAFwAcABBg==&rs=AOn4CLBJsFZKpOxJFQxwaMF09GJE9mDGPQ',\n",
       "  'channel name': 'Beast Reacts',\n",
       "  'video description': \"SUBSCRIBE OR YOU'LL HAVE BAD LUCK CHECK OUT THESE CHANNELS OR ELSE GoPro https://www.youtube.com/watch?v=8_T5oSUP-Kc https://www.youtube.com/watch?v=LfckFEO_72I https://www.youtube.com/watch?v=yQ...\"},\n",
       " {'title': \"I'M PRINCESS PROTECTION PROGRAM\",\n",
       "  'video_url': 'https://www.youtube.com/watch?v=kEnh_5z4I7w',\n",
       "  'thumb_nail_url': 'https://i.ytimg.com/vi/kEnh_5z4I7w/hqdefault.jpg?sqp=-oaymwEcCPYBEIoBSFXyq4qpAw4IARUAAIhCGAFwAcABBg==&rs=AOn4CLDxyyre459cfqx4TdxqtIOtZCux4g',\n",
       "  'channel name': 'Danny Gonzalez',\n",
       "  'video description': 'edited by Jake Mayer https://www.instagram.com/jakeshotfriend/ MERCH ► http://dannygonzalez.store Follow Me SECOND CHANNEL ► https://www.youtube.com/c/2Danny2Furious GAMING CHANNEL ►...'},\n",
       " {'title': 'Renfield | Official Trailer',\n",
       "  'video_url': 'https://www.youtube.com/watch?v=6LmO6rmDW08',\n",
       "  'thumb_nail_url': 'https://i.ytimg.com/vi/6LmO6rmDW08/hqdefault.jpg?sqp=-oaymwEcCPYBEIoBSFXyq4qpAw4IARUAAIhCGAFwAcABBg==&rs=AOn4CLCriUMglKEPNGxgrEmXpjao_3Eslg',\n",
       "  'channel name': 'Universal Pictures',\n",
       "  'video description': '🩸LET’S EAT🩸Sink your teeth into the new trailer for #RenfieldMovie, in theaters April 14th. -- Renfield Only in Theaters April 14 www.renfieldmovie.com Evil doesn’t span eternity...'},\n",
       " {'title': 'Shocking Evidence Links Bryan Kohberger to Idaho Student Murders: Police',\n",
       "  'video_url': 'https://www.youtube.com/watch?v=4cGGxOQz5SM',\n",
       "  'thumb_nail_url': 'https://i.ytimg.com/vi/4cGGxOQz5SM/hqdefault.jpg?sqp=-oaymwEcCPYBEIoBSFXyq4qpAw4IARUAAIhCGAFwAcABBg==&rs=AOn4CLAwWfmMj6po4PqzQIhVGUw3u1XOfA',\n",
       "  'channel name': 'Law&Crime Network',\n",
       "  'video description': 'The probable cause affidavit police used to arrest 28-year-old Bryan Kohberger was released by Idaho authorities Thursday morning. The affidavit claims that various pieces of evidence link...'},\n",
       " {'title': 'Popcaan - We Caa Done Ft Drake (Official Video)',\n",
       "  'video_url': 'https://www.youtube.com/watch?v=TjJZNdLSexU',\n",
       "  'thumb_nail_url': None,\n",
       "  'channel name': 'Popcaan',\n",
       "  'video description': '#Popcaan #Drake #GIHE Listen to We Caa Done: https://ovo-popcaan.ffm.to/wecaadone Follow Popcaan ►https://tiktok.com/@popcaanofficial ►https://facebook.com/PopcaanMusic ►https://instagram....'},\n",
       " {'title': \"2 Ex's Meet Again After ONE Year Of Not Seeing Eachother..\",\n",
       "  'video_url': 'https://www.youtube.com/watch?v=snfCUuJuMN0',\n",
       "  'thumb_nail_url': 'https://i.ytimg.com/vi/snfCUuJuMN0/hqdefault.jpg?sqp=-oaymwEcCPYBEIoBSFXyq4qpAw4IARUAAIhCGAFwAcABBg==&rs=AOn4CLAD2wtFxZ3aCFvtQtFr7bXuSWT-TA',\n",
       "  'channel name': 'imLilPerfect',\n",
       "  'video description': 'NEW Videos Everyweek! Turn My Notifications ON So You Never Miss A Video! #perfectgang Flo: @Badazzflo. Nuni: @bignuni Subscribe To Lil Perfect ► https://www.youtube.com/c/imLilPerfect...'},\n",
       " {'title': 'Sean McDermott And Josh Allen On Damar Hamlin’s Progress | Buffalo Bills',\n",
       "  'video_url': 'https://www.youtube.com/watch?v=cu3UwAX7rqY',\n",
       "  'thumb_nail_url': 'https://i.ytimg.com/vi/cu3UwAX7rqY/hqdefault.jpg?sqp=-oaymwEcCPYBEIoBSFXyq4qpAw4IARUAAIhCGAFwAcABBg==&rs=AOn4CLDVshZzo3k6H09b-tjXCGW2Hk_q_w',\n",
       "  'channel name': 'Buffalo Bills',\n",
       "  'video description': 'Buffalo Bills head coach Sean McDermott and quarterback Josh Allen addressed the media after Thursday’s practice. Topics included: Damar Hamlin’s recovery process, coach/player’s perspective...'},\n",
       " {'title': 'REVELATION // Episode 6 Cinematic - VALORANT',\n",
       "  'video_url': 'https://www.youtube.com/watch?v=XfuMEmcz3k0',\n",
       "  'thumb_nail_url': 'https://i.ytimg.com/vi/XfuMEmcz3k0/hqdefault.jpg?sqp=-oaymwEcCPYBEIoBSFXyq4qpAw4IARUAAIhCGAFwAcABBg==&rs=AOn4CLAGJpTOxU7fy-C3QXzFkzUPIrj8cw',\n",
       "  'channel name': 'VALORANT',\n",
       "  'video description': 'From darkness, revelation. Uncover the wonders of a forgotten world in Episode 6: REVELATION. Kicking off Jan 10, 2023. — Created in partnership with Blur Studio: https://www.blur.com/about...'},\n",
       " {'title': 'THE ROAST OF ZANE HIJAZI',\n",
       "  'video_url': 'https://www.youtube.com/watch?v=ExxkvCSHKdc',\n",
       "  'thumb_nail_url': 'https://i.ytimg.com/vi/ExxkvCSHKdc/hqdefault.jpg?sqp=-oaymwEcCPYBEIoBSFXyq4qpAw4IARUAAIhCGAFwAcABBg==&rs=AOn4CLDYf9FT0jfbhTv04ZH9P3GSfPsdog',\n",
       "  'channel name': 'Jason Nash',\n",
       "  'video description': 'It’s the “Roast of Zane Hijazi” sponsored by @SeatGeek! For tickets to any concert or sporting events, head to https://seatgeek.com and get $20 off your first order with our promo code...'}]"
      ]
     },
     "execution_count": 22,
     "metadata": {},
     "output_type": "execute_result"
    }
   ],
   "source": [
    "videos_data = [parse_video(video) for video in videos[:10]]\n",
    "videos_data"
   ]
  },
  {
   "cell_type": "markdown",
   "id": "1aa01aea",
   "metadata": {},
   "source": [
    "I can't find img src, it's because I don't give selenium enough time to load the page"
   ]
  },
  {
   "cell_type": "code",
   "execution_count": 23,
   "id": "34b36cfa",
   "metadata": {},
   "outputs": [],
   "source": [
    "import pandas as pd"
   ]
  },
  {
   "cell_type": "code",
   "execution_count": 24,
   "id": "cb85aa64",
   "metadata": {},
   "outputs": [
    {
     "data": {
      "text/html": [
       "<div>\n",
       "<style scoped>\n",
       "    .dataframe tbody tr th:only-of-type {\n",
       "        vertical-align: middle;\n",
       "    }\n",
       "\n",
       "    .dataframe tbody tr th {\n",
       "        vertical-align: top;\n",
       "    }\n",
       "\n",
       "    .dataframe thead th {\n",
       "        text-align: right;\n",
       "    }\n",
       "</style>\n",
       "<table border=\"1\" class=\"dataframe\">\n",
       "  <thead>\n",
       "    <tr style=\"text-align: right;\">\n",
       "      <th></th>\n",
       "      <th>title</th>\n",
       "      <th>video_url</th>\n",
       "      <th>thumb_nail_url</th>\n",
       "      <th>channel name</th>\n",
       "      <th>video description</th>\n",
       "    </tr>\n",
       "  </thead>\n",
       "  <tbody>\n",
       "    <tr>\n",
       "      <th>0</th>\n",
       "      <td>Quavo - WITHOUT YOU</td>\n",
       "      <td>https://www.youtube.com/watch?v=_uS8QRe2qfE</td>\n",
       "      <td>https://i.ytimg.com/vi/_uS8QRe2qfE/hqdefault.j...</td>\n",
       "      <td>Quavo Huncho</td>\n",
       "      <td>♾🚀 Listen to \"WITHOUT YOU\" here: https://sound...</td>\n",
       "    </tr>\n",
       "    <tr>\n",
       "      <th>1</th>\n",
       "      <td>I Strapped A GoPro To A Fish!</td>\n",
       "      <td>https://www.youtube.com/watch?v=NigrQ9UcJy4</td>\n",
       "      <td>https://i.ytimg.com/vi/NigrQ9UcJy4/hqdefault.j...</td>\n",
       "      <td>Beast Reacts</td>\n",
       "      <td>SUBSCRIBE OR YOU'LL HAVE BAD LUCK CHECK OUT TH...</td>\n",
       "    </tr>\n",
       "    <tr>\n",
       "      <th>2</th>\n",
       "      <td>I'M PRINCESS PROTECTION PROGRAM</td>\n",
       "      <td>https://www.youtube.com/watch?v=kEnh_5z4I7w</td>\n",
       "      <td>https://i.ytimg.com/vi/kEnh_5z4I7w/hqdefault.j...</td>\n",
       "      <td>Danny Gonzalez</td>\n",
       "      <td>edited by Jake Mayer https://www.instagram.com...</td>\n",
       "    </tr>\n",
       "    <tr>\n",
       "      <th>3</th>\n",
       "      <td>Renfield | Official Trailer</td>\n",
       "      <td>https://www.youtube.com/watch?v=6LmO6rmDW08</td>\n",
       "      <td>https://i.ytimg.com/vi/6LmO6rmDW08/hqdefault.j...</td>\n",
       "      <td>Universal Pictures</td>\n",
       "      <td>🩸LET’S EAT🩸Sink your teeth into the new traile...</td>\n",
       "    </tr>\n",
       "    <tr>\n",
       "      <th>4</th>\n",
       "      <td>Shocking Evidence Links Bryan Kohberger to Ida...</td>\n",
       "      <td>https://www.youtube.com/watch?v=4cGGxOQz5SM</td>\n",
       "      <td>https://i.ytimg.com/vi/4cGGxOQz5SM/hqdefault.j...</td>\n",
       "      <td>Law&amp;Crime Network</td>\n",
       "      <td>The probable cause affidavit police used to ar...</td>\n",
       "    </tr>\n",
       "    <tr>\n",
       "      <th>5</th>\n",
       "      <td>Popcaan - We Caa Done Ft Drake (Official Video)</td>\n",
       "      <td>https://www.youtube.com/watch?v=TjJZNdLSexU</td>\n",
       "      <td>None</td>\n",
       "      <td>Popcaan</td>\n",
       "      <td>#Popcaan #Drake #GIHE Listen to We Caa Done: h...</td>\n",
       "    </tr>\n",
       "    <tr>\n",
       "      <th>6</th>\n",
       "      <td>2 Ex's Meet Again After ONE Year Of Not Seeing...</td>\n",
       "      <td>https://www.youtube.com/watch?v=snfCUuJuMN0</td>\n",
       "      <td>https://i.ytimg.com/vi/snfCUuJuMN0/hqdefault.j...</td>\n",
       "      <td>imLilPerfect</td>\n",
       "      <td>NEW Videos Everyweek! Turn My Notifications ON...</td>\n",
       "    </tr>\n",
       "    <tr>\n",
       "      <th>7</th>\n",
       "      <td>Sean McDermott And Josh Allen On Damar Hamlin’...</td>\n",
       "      <td>https://www.youtube.com/watch?v=cu3UwAX7rqY</td>\n",
       "      <td>https://i.ytimg.com/vi/cu3UwAX7rqY/hqdefault.j...</td>\n",
       "      <td>Buffalo Bills</td>\n",
       "      <td>Buffalo Bills head coach Sean McDermott and qu...</td>\n",
       "    </tr>\n",
       "    <tr>\n",
       "      <th>8</th>\n",
       "      <td>REVELATION // Episode 6 Cinematic - VALORANT</td>\n",
       "      <td>https://www.youtube.com/watch?v=XfuMEmcz3k0</td>\n",
       "      <td>https://i.ytimg.com/vi/XfuMEmcz3k0/hqdefault.j...</td>\n",
       "      <td>VALORANT</td>\n",
       "      <td>From darkness, revelation. Uncover the wonders...</td>\n",
       "    </tr>\n",
       "    <tr>\n",
       "      <th>9</th>\n",
       "      <td>THE ROAST OF ZANE HIJAZI</td>\n",
       "      <td>https://www.youtube.com/watch?v=ExxkvCSHKdc</td>\n",
       "      <td>https://i.ytimg.com/vi/ExxkvCSHKdc/hqdefault.j...</td>\n",
       "      <td>Jason Nash</td>\n",
       "      <td>It’s the “Roast of Zane Hijazi” sponsored by @...</td>\n",
       "    </tr>\n",
       "  </tbody>\n",
       "</table>\n",
       "</div>"
      ],
      "text/plain": [
       "                                               title  \\\n",
       "0                                Quavo - WITHOUT YOU   \n",
       "1                      I Strapped A GoPro To A Fish!   \n",
       "2                    I'M PRINCESS PROTECTION PROGRAM   \n",
       "3                        Renfield | Official Trailer   \n",
       "4  Shocking Evidence Links Bryan Kohberger to Ida...   \n",
       "5    Popcaan - We Caa Done Ft Drake (Official Video)   \n",
       "6  2 Ex's Meet Again After ONE Year Of Not Seeing...   \n",
       "7  Sean McDermott And Josh Allen On Damar Hamlin’...   \n",
       "8       REVELATION // Episode 6 Cinematic - VALORANT   \n",
       "9                           THE ROAST OF ZANE HIJAZI   \n",
       "\n",
       "                                     video_url  \\\n",
       "0  https://www.youtube.com/watch?v=_uS8QRe2qfE   \n",
       "1  https://www.youtube.com/watch?v=NigrQ9UcJy4   \n",
       "2  https://www.youtube.com/watch?v=kEnh_5z4I7w   \n",
       "3  https://www.youtube.com/watch?v=6LmO6rmDW08   \n",
       "4  https://www.youtube.com/watch?v=4cGGxOQz5SM   \n",
       "5  https://www.youtube.com/watch?v=TjJZNdLSexU   \n",
       "6  https://www.youtube.com/watch?v=snfCUuJuMN0   \n",
       "7  https://www.youtube.com/watch?v=cu3UwAX7rqY   \n",
       "8  https://www.youtube.com/watch?v=XfuMEmcz3k0   \n",
       "9  https://www.youtube.com/watch?v=ExxkvCSHKdc   \n",
       "\n",
       "                                      thumb_nail_url        channel name  \\\n",
       "0  https://i.ytimg.com/vi/_uS8QRe2qfE/hqdefault.j...        Quavo Huncho   \n",
       "1  https://i.ytimg.com/vi/NigrQ9UcJy4/hqdefault.j...        Beast Reacts   \n",
       "2  https://i.ytimg.com/vi/kEnh_5z4I7w/hqdefault.j...      Danny Gonzalez   \n",
       "3  https://i.ytimg.com/vi/6LmO6rmDW08/hqdefault.j...  Universal Pictures   \n",
       "4  https://i.ytimg.com/vi/4cGGxOQz5SM/hqdefault.j...   Law&Crime Network   \n",
       "5                                               None             Popcaan   \n",
       "6  https://i.ytimg.com/vi/snfCUuJuMN0/hqdefault.j...        imLilPerfect   \n",
       "7  https://i.ytimg.com/vi/cu3UwAX7rqY/hqdefault.j...       Buffalo Bills   \n",
       "8  https://i.ytimg.com/vi/XfuMEmcz3k0/hqdefault.j...            VALORANT   \n",
       "9  https://i.ytimg.com/vi/ExxkvCSHKdc/hqdefault.j...          Jason Nash   \n",
       "\n",
       "                                   video description  \n",
       "0  ♾🚀 Listen to \"WITHOUT YOU\" here: https://sound...  \n",
       "1  SUBSCRIBE OR YOU'LL HAVE BAD LUCK CHECK OUT TH...  \n",
       "2  edited by Jake Mayer https://www.instagram.com...  \n",
       "3  🩸LET’S EAT🩸Sink your teeth into the new traile...  \n",
       "4  The probable cause affidavit police used to ar...  \n",
       "5  #Popcaan #Drake #GIHE Listen to We Caa Done: h...  \n",
       "6  NEW Videos Everyweek! Turn My Notifications ON...  \n",
       "7  Buffalo Bills head coach Sean McDermott and qu...  \n",
       "8  From darkness, revelation. Uncover the wonders...  \n",
       "9  It’s the “Roast of Zane Hijazi” sponsored by @...  "
      ]
     },
     "execution_count": 24,
     "metadata": {},
     "output_type": "execute_result"
    }
   ],
   "source": [
    "videos_df = pd.DataFrame(videos_data)\n",
    "videos_df"
   ]
  }
 ],
 "metadata": {
  "kernelspec": {
   "display_name": "Python 3 (ipykernel)",
   "language": "python",
   "name": "python3"
  },
  "language_info": {
   "codemirror_mode": {
    "name": "ipython",
    "version": 3
   },
   "file_extension": ".py",
   "mimetype": "text/x-python",
   "name": "python",
   "nbconvert_exporter": "python",
   "pygments_lexer": "ipython3",
   "version": "3.9.13"
  }
 },
 "nbformat": 4,
 "nbformat_minor": 5
}
